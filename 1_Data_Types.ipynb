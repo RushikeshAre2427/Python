{
 "cells": [
  {
   "cell_type": "markdown",
   "id": "97376694-97ad-4254-a937-9a7e75449dd6",
   "metadata": {},
   "source": [
    "# Data Types"
   ]
  },
  {
   "cell_type": "markdown",
   "id": "dc47ca3e-6c42-4554-901d-ef9b259c7db3",
   "metadata": {},
   "source": [
    "# Int"
   ]
  },
  {
   "cell_type": "markdown",
   "id": "e270817c-b4d1-4258-83f4-53cd3cc071b3",
   "metadata": {},
   "source": [
    "Complete Number is Int data"
   ]
  },
  {
   "cell_type": "raw",
   "id": "cdf82d57-30fb-4af0-b18a-b637aa0ed1e1",
   "metadata": {},
   "source": [
    "Eg:\n",
    "1. How many members you have in your family?\n",
    "---> 5,3,6\n",
    "2. How many bank accounts you have ?\n",
    "---> 2,1,4"
   ]
  },
  {
   "cell_type": "code",
   "execution_count": 1,
   "id": "ba31e77a-0284-4364-bd49-3faf3fe16184",
   "metadata": {},
   "outputs": [
    {
     "data": {
      "text/plain": [
       "5"
      ]
     },
     "execution_count": 1,
     "metadata": {},
     "output_type": "execute_result"
    }
   ],
   "source": [
    "5"
   ]
  },
  {
   "cell_type": "code",
   "execution_count": 2,
   "id": "d388205c-319e-423b-9945-edcf88d2526c",
   "metadata": {},
   "outputs": [
    {
     "data": {
      "text/plain": [
       "int"
      ]
     },
     "execution_count": 2,
     "metadata": {},
     "output_type": "execute_result"
    }
   ],
   "source": [
    "type(5)"
   ]
  },
  {
   "cell_type": "markdown",
   "id": "af249acc-f4f4-4a13-9d04-7df78f213345",
   "metadata": {},
   "source": [
    "# Float\n",
    "Numbers in decimal format"
   ]
  },
  {
   "cell_type": "raw",
   "id": "91b8040f-11f7-4452-9556-7754b423ba4e",
   "metadata": {},
   "source": [
    "Eg:\n",
    "1. Height\n",
    "---> 6.1 , 5.3, 4.4\n",
    "2. Weight \n",
    "---> 34.200 , 55.200"
   ]
  },
  {
   "cell_type": "code",
   "execution_count": 3,
   "id": "d5b8423b-8423-43b0-a4df-9f7d126c5479",
   "metadata": {},
   "outputs": [
    {
     "data": {
      "text/plain": [
       "34.4"
      ]
     },
     "execution_count": 3,
     "metadata": {},
     "output_type": "execute_result"
    }
   ],
   "source": [
    "34.400"
   ]
  },
  {
   "cell_type": "code",
   "execution_count": 4,
   "id": "ef10dfd4-c517-4741-9313-4ae4a40ef26d",
   "metadata": {},
   "outputs": [
    {
     "data": {
      "text/plain": [
       "float"
      ]
     },
     "execution_count": 4,
     "metadata": {},
     "output_type": "execute_result"
    }
   ],
   "source": [
    "type(34.400)"
   ]
  },
  {
   "cell_type": "markdown",
   "id": "ed9bc768-a0fd-4318-9c7f-d8ff7c3d9572",
   "metadata": {},
   "source": [
    "# Complex Number\n",
    "Vector plotting by using real axis + imgainary axis"
   ]
  },
  {
   "cell_type": "code",
   "execution_count": 5,
   "id": "796bc644-d662-4ea1-886f-0a053990aeae",
   "metadata": {},
   "outputs": [
    {
     "data": {
      "text/plain": [
       "(5+3j)"
      ]
     },
     "execution_count": 5,
     "metadata": {},
     "output_type": "execute_result"
    }
   ],
   "source": [
    "5+3j"
   ]
  },
  {
   "cell_type": "code",
   "execution_count": 6,
   "id": "4ee948cf-a538-4be2-85bc-ba19c828b0e6",
   "metadata": {},
   "outputs": [
    {
     "data": {
      "text/plain": [
       "(10+9j)"
      ]
     },
     "execution_count": 6,
     "metadata": {},
     "output_type": "execute_result"
    }
   ],
   "source": [
    "10+9j"
   ]
  },
  {
   "cell_type": "markdown",
   "id": "ceaeec5b-285e-4f58-ad73-4eeede9314aa",
   "metadata": {},
   "source": [
    "# String\n",
    "For writing down letters, sentences, names"
   ]
  },
  {
   "cell_type": "code",
   "execution_count": 8,
   "id": "d00728f5-3651-4da5-ab81-2cb681890842",
   "metadata": {},
   "outputs": [
    {
     "data": {
      "text/plain": [
       "'Today we are learning data types'"
      ]
     },
     "execution_count": 8,
     "metadata": {},
     "output_type": "execute_result"
    }
   ],
   "source": [
    "\"Today we are learning data types\""
   ]
  },
  {
   "cell_type": "code",
   "execution_count": 9,
   "id": "5bfa0ca2-aea0-47ae-a765-455cf50e3b60",
   "metadata": {},
   "outputs": [
    {
     "name": "stdout",
     "output_type": "stream",
     "text": [
      "Today we are learning data types\n"
     ]
    }
   ],
   "source": [
    "print(\"Today we are learning data types\")"
   ]
  },
  {
   "cell_type": "code",
   "execution_count": 10,
   "id": "fb863932-f78a-4bc6-88f8-efc2d54f28b9",
   "metadata": {},
   "outputs": [
    {
     "data": {
      "text/plain": [
       "'This is my line no One.\\nThis is my line no Two.\\nThis is my line no Three'"
      ]
     },
     "execution_count": 10,
     "metadata": {},
     "output_type": "execute_result"
    }
   ],
   "source": [
    "\"\"\"This is my line no One.\n",
    "This is my line no Two.\n",
    "This is my line no Three\"\"\""
   ]
  },
  {
   "cell_type": "code",
   "execution_count": 11,
   "id": "f9c06878-12ff-4ea7-bd52-afa8deca5ffb",
   "metadata": {},
   "outputs": [
    {
     "name": "stdout",
     "output_type": "stream",
     "text": [
      "This is my line no One.\n",
      "This is my line no Two.\n",
      "This is my line no Three\n"
     ]
    }
   ],
   "source": [
    "print(\"\"\"This is my line no One.\n",
    "This is my line no Two.\n",
    "This is my line no Three\"\"\")"
   ]
  },
  {
   "cell_type": "code",
   "execution_count": 13,
   "id": "a0f6e4c1-af23-455c-8a14-9aa43a0b1eb4",
   "metadata": {},
   "outputs": [
    {
     "data": {
      "text/plain": [
       "str"
      ]
     },
     "execution_count": 13,
     "metadata": {},
     "output_type": "execute_result"
    }
   ],
   "source": [
    "type(\"Vaibhav\")"
   ]
  },
  {
   "cell_type": "code",
   "execution_count": 12,
   "id": "7e5f30a4-82b5-4d00-a90d-df26377e2325",
   "metadata": {},
   "outputs": [],
   "source": [
    "# How you will write down multiple line sentences"
   ]
  },
  {
   "cell_type": "markdown",
   "id": "c4178949-80c8-409d-93ba-1c55ba3f4229",
   "metadata": {},
   "source": [
    "# Boolean\n",
    "True or False outputs"
   ]
  },
  {
   "cell_type": "code",
   "execution_count": 14,
   "id": "2b320be5-c2e9-41de-ac80-11f5255ccba6",
   "metadata": {},
   "outputs": [
    {
     "data": {
      "text/plain": [
       "True"
      ]
     },
     "execution_count": 14,
     "metadata": {},
     "output_type": "execute_result"
    }
   ],
   "source": [
    "15 > 9"
   ]
  },
  {
   "cell_type": "code",
   "execution_count": 16,
   "id": "2976f5b7-286d-45c6-b460-cdfe035e26a0",
   "metadata": {},
   "outputs": [
    {
     "data": {
      "text/plain": [
       "False"
      ]
     },
     "execution_count": 16,
     "metadata": {},
     "output_type": "execute_result"
    }
   ],
   "source": [
    "5 > 9"
   ]
  },
  {
   "cell_type": "code",
   "execution_count": 17,
   "id": "14f2434f-5589-4bf2-b017-688d6675e96b",
   "metadata": {},
   "outputs": [
    {
     "data": {
      "text/plain": [
       "13"
      ]
     },
     "execution_count": 17,
     "metadata": {},
     "output_type": "execute_result"
    }
   ],
   "source": [
    "5 + 8"
   ]
  },
  {
   "cell_type": "code",
   "execution_count": 18,
   "id": "31753ac9-ae8c-4dc1-ae9f-100edd90bbda",
   "metadata": {},
   "outputs": [
    {
     "ename": "TypeError",
     "evalue": "unsupported operand type(s) for +: 'int' and 'str'",
     "output_type": "error",
     "traceback": [
      "\u001b[1;31m---------------------------------------------------------------------------\u001b[0m",
      "\u001b[1;31mTypeError\u001b[0m                                 Traceback (most recent call last)",
      "Cell \u001b[1;32mIn[18], line 1\u001b[0m\n\u001b[1;32m----> 1\u001b[0m \u001b[38;5;241m5\u001b[39m \u001b[38;5;241m+\u001b[39m \u001b[38;5;124m'\u001b[39m\u001b[38;5;124mHello\u001b[39m\u001b[38;5;124m'\u001b[39m\n",
      "\u001b[1;31mTypeError\u001b[0m: unsupported operand type(s) for +: 'int' and 'str'"
     ]
    }
   ],
   "source": [
    "5 + 'Hello'"
   ]
  },
  {
   "cell_type": "code",
   "execution_count": 19,
   "id": "072598b9-5219-4643-8f3b-d7164a54a6d7",
   "metadata": {},
   "outputs": [
    {
     "data": {
      "text/plain": [
       "'HelloPython'"
      ]
     },
     "execution_count": 19,
     "metadata": {},
     "output_type": "execute_result"
    }
   ],
   "source": [
    "'Hello' + 'Python'"
   ]
  },
  {
   "cell_type": "code",
   "execution_count": null,
   "id": "52f0283f-b4b7-4e06-9926-274784077bdd",
   "metadata": {},
   "outputs": [],
   "source": [
    "int + string ?\n",
    "5 + 'Vaibhav'\n",
    "--> No\n",
    "Diff data types"
   ]
  },
  {
   "cell_type": "code",
   "execution_count": 20,
   "id": "b4b8e792-a4a2-483a-ab8d-cc301d558d43",
   "metadata": {},
   "outputs": [
    {
     "ename": "TypeError",
     "evalue": "unsupported operand type(s) for +: 'int' and 'str'",
     "output_type": "error",
     "traceback": [
      "\u001b[1;31m---------------------------------------------------------------------------\u001b[0m",
      "\u001b[1;31mTypeError\u001b[0m                                 Traceback (most recent call last)",
      "Cell \u001b[1;32mIn[20], line 1\u001b[0m\n\u001b[1;32m----> 1\u001b[0m \u001b[38;5;241m5\u001b[39m \u001b[38;5;241m+\u001b[39m \u001b[38;5;124m'\u001b[39m\u001b[38;5;124mVaibhav\u001b[39m\u001b[38;5;124m'\u001b[39m\n",
      "\u001b[1;31mTypeError\u001b[0m: unsupported operand type(s) for +: 'int' and 'str'"
     ]
    }
   ],
   "source": [
    "5 + 'Vaibhav'"
   ]
  },
  {
   "cell_type": "code",
   "execution_count": 21,
   "id": "52ca051f-2c65-476e-84ca-5d2877f561ae",
   "metadata": {},
   "outputs": [
    {
     "data": {
      "text/plain": [
       "11.5"
      ]
     },
     "execution_count": 21,
     "metadata": {},
     "output_type": "execute_result"
    }
   ],
   "source": [
    "5 + 6.5"
   ]
  },
  {
   "cell_type": "code",
   "execution_count": null,
   "id": "2b48f6c7-1e8f-44a5-96b2-a1d341494f08",
   "metadata": {},
   "outputs": [],
   "source": [
    "number + string ?\n",
    "737278 + 'Hello'"
   ]
  },
  {
   "cell_type": "code",
   "execution_count": 22,
   "id": "b80b1b7a-cc17-4fa3-baac-2d26792faa06",
   "metadata": {},
   "outputs": [
    {
     "ename": "TypeError",
     "evalue": "unsupported operand type(s) for +: 'int' and 'str'",
     "output_type": "error",
     "traceback": [
      "\u001b[1;31m---------------------------------------------------------------------------\u001b[0m",
      "\u001b[1;31mTypeError\u001b[0m                                 Traceback (most recent call last)",
      "Cell \u001b[1;32mIn[22], line 1\u001b[0m\n\u001b[1;32m----> 1\u001b[0m \u001b[38;5;241m737278\u001b[39m \u001b[38;5;241m+\u001b[39m \u001b[38;5;124m'\u001b[39m\u001b[38;5;124mHello\u001b[39m\u001b[38;5;124m'\u001b[39m\n",
      "\u001b[1;31mTypeError\u001b[0m: unsupported operand type(s) for +: 'int' and 'str'"
     ]
    }
   ],
   "source": [
    "737278 + 'Hello'"
   ]
  },
  {
   "cell_type": "code",
   "execution_count": 23,
   "id": "67aac49f-66fa-451a-8bbf-5deb6eb06e93",
   "metadata": {},
   "outputs": [
    {
     "data": {
      "text/plain": [
       "1599996"
      ]
     },
     "execution_count": 23,
     "metadata": {},
     "output_type": "execute_result"
    }
   ],
   "source": [
    "737278 + 862718"
   ]
  },
  {
   "cell_type": "code",
   "execution_count": 24,
   "id": "62a95bd4-1a22-40e4-b1c4-e336b890284d",
   "metadata": {},
   "outputs": [
    {
     "data": {
      "text/plain": [
       "'HelloPython'"
      ]
     },
     "execution_count": 24,
     "metadata": {},
     "output_type": "execute_result"
    }
   ],
   "source": [
    "\"Hello\" + \"Python\""
   ]
  },
  {
   "cell_type": "code",
   "execution_count": null,
   "id": "696fae6c-f36d-49cc-a268-1f0ee94ef326",
   "metadata": {},
   "outputs": [],
   "source": []
  }
 ],
 "metadata": {
  "kernelspec": {
   "display_name": "Python 3 (ipykernel)",
   "language": "python",
   "name": "python3"
  },
  "language_info": {
   "codemirror_mode": {
    "name": "ipython",
    "version": 3
   },
   "file_extension": ".py",
   "mimetype": "text/x-python",
   "name": "python",
   "nbconvert_exporter": "python",
   "pygments_lexer": "ipython3",
   "version": "3.12.4"
  }
 },
 "nbformat": 4,
 "nbformat_minor": 5
}
